{
 "cells": [
  {
   "cell_type": "code",
   "execution_count": 2,
   "metadata": {},
   "outputs": [],
   "source": [
    "import pandas as pd\n",
    "import numpy as np\n",
    "import matplotlib.pyplot as plt\n",
    "import itertools\n",
    "import random\n",
    "import gspread_pandas #pip install gspread-pandas\n",
    "from gspread_pandas import Spread\n",
    "\n",
    "df = pd.read_excel(\"task_data.xlsx\")\n",
    "\n",
    "#clearing erroneous data, getting rid of duplicate keywords in one area and some data with type mismatch and strange column 'good (1)'\n",
    "df.dropna(inplace=True)\n",
    "df.drop('good (1)', axis=1, inplace=True)\n",
    "df = df.drop_duplicates([\"area\", \"keyword\"])\n",
    "df = df[~((df['count'] == '-') | (df['count'] == 'N\\A') | (df['y'] == '0x414fe002'))]\n",
    "\n",
    "#creating a  tableu color dictionary for each area-cluster pair\n",
    "cols = ['tab:blue', 'tab:orange', 'tab:green', 'tab:red', 'tab:purple', 'tab:brown', 'tab:pink', 'tab:gray', 'tab:olive', 'tab:cyan']\n",
    "area = df.area.unique()\n",
    "cluster = df.cluster.unique()\n",
    "area_cluster = list(itertools.product(area, cluster))\n",
    "color = []\n",
    "random.seed(1)\n",
    "for i in range(len(area)):\n",
    "    color.extend(random.sample(cols, 4))\n",
    "area_cluster_color = dict(zip(area_cluster, color))\n",
    "\n",
    "#creating a new column 'color' with a color value from the dictionary\n",
    "df['color'] = df.apply(lambda x: area_cluster_color[(x[\"area\"], x[\"cluster\"])], axis=1)\n",
    "\n",
    "#explicitly specifying column types before sorting and applying filters\n",
    "types = [\"string\", int, \"string\", \"string\", int, np.float64, np.float64, \"string\"]\n",
    "retype = dict(zip(df.columns, types))\n",
    "df = df.astype(retype)\n",
    "\n",
    "#sort by area, cluster, cluster_name in ascending order and count in descending order\n",
    "df = df.sort_values([ 'area', 'cluster', 'cluster_name', 'count' ], ascending=[True, True, True, False])\n",
    "\n",
    "#connecting to google api and creating a Spread object to interact with the google-spreadsheet\n",
    "#conf_dir - my local dir, creds.json - my google_secret.json in the local dir which allows me to access the service account, \n",
    "#which I previously allowed in the google table\n",
    "#spread is the url for my google-spreadsheet\n",
    "conf = gspread_pandas.conf.get_config(conf_dir='C:\\\\Users\\\\oanov\\\\Тестовое', file_name='creds.json')\n",
    "cred = gspread_pandas.conf.get_creds(config=conf)\n",
    "spread = Spread(spread=\"https://docs.google.com/spreadsheets/d/1TuaKIhiv14f3W1OninFqu_-NB5uwSaJeE8j1wdraEws/edit#gid=0\", config=conf, creds=cred)\n",
    "\n",
    "#sending dataframe to google-spreadsheet with pinned header and added filter\n",
    "spread.df_to_sheet(df, index=False, freeze_headers=True, add_filter=True) # spread.clear_sheet()"
   ]
  },
  {
   "cell_type": "code",
   "execution_count": null,
   "metadata": {},
   "outputs": [],
   "source": []
  }
 ],
 "metadata": {
  "kernelspec": {
   "display_name": "Python 3",
   "language": "python",
   "name": "python3"
  },
  "language_info": {
   "codemirror_mode": {
    "name": "ipython",
    "version": 3
   },
   "file_extension": ".py",
   "mimetype": "text/x-python",
   "name": "python",
   "nbconvert_exporter": "python",
   "pygments_lexer": "ipython3",
   "version": "3.8.3"
  }
 },
 "nbformat": 4,
 "nbformat_minor": 4
}
